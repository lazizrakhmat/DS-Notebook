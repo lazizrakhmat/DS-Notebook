{
  "nbformat": 4,
  "nbformat_minor": 0,
  "metadata": {
    "colab": {
      "provenance": [],
      "authorship_tag": "ABX9TyMPj/JdJGPCr6lF3UA9yLKD",
      "include_colab_link": true
    },
    "kernelspec": {
      "name": "python3",
      "display_name": "Python 3"
    },
    "language_info": {
      "name": "python"
    }
  },
  "cells": [
    {
      "cell_type": "markdown",
      "metadata": {
        "id": "view-in-github",
        "colab_type": "text"
      },
      "source": [
        "<a href=\"https://colab.research.google.com/github/lazizrakhmat/DS-Notebook/blob/main/multi_indexing.ipynb\" target=\"_parent\"><img src=\"https://colab.research.google.com/assets/colab-badge.svg\" alt=\"Open In Colab\"/></a>"
      ]
    },
    {
      "cell_type": "markdown",
      "source": [
        "# Data Science va Sun'iy Intellekt Praktikum\n",
        "## 3-MODUL MA'LUMOTLARGA ISHLOV BERISH\n",
        "### 3.3.1  Ma'lumotlarni tozalash va tayyorlash"
      ],
      "metadata": {
        "id": "adlLktuF8cmH"
      }
    },
    {
      "cell_type": "code",
      "execution_count": 1,
      "metadata": {
        "id": "E4ouvmqe8blb"
      },
      "outputs": [],
      "source": [
        "import pandas as pd\n",
        "import numpy as np"
      ]
    },
    {
      "cell_type": "markdown",
      "source": [
        "## Multi Indekslash\n"
      ],
      "metadata": {
        "id": "ojffHEOL8vOo"
      }
    },
    {
      "cell_type": "markdown",
      "source": [
        "### *Hierarchical indexing* - ya'ni (shajara) Biz qachonki katta mashtabli ma'lumotlar bilan ishlayotganimizda, indexlari bilan guruhlab beradi"
      ],
      "metadata": {
        "id": "9YZiatks83Xx"
      }
    },
    {
      "cell_type": "code",
      "source": [],
      "metadata": {
        "id": "hBJ5l-Ay8oGw"
      },
      "execution_count": null,
      "outputs": []
    }
  ]
}