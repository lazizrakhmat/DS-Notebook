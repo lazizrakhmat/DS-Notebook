{
  "nbformat": 4,
  "nbformat_minor": 0,
  "metadata": {
    "colab": {
      "provenance": [],
      "authorship_tag": "ABX9TyNMRvMvU2IYjA/B580/Hda6",
      "include_colab_link": true
    },
    "kernelspec": {
      "name": "python3",
      "display_name": "Python 3"
    },
    "language_info": {
      "name": "python"
    }
  },
  "cells": [
    {
      "cell_type": "markdown",
      "metadata": {
        "id": "view-in-github",
        "colab_type": "text"
      },
      "source": [
        "<a href=\"https://colab.research.google.com/github/lazizrakhmat/DS-Notebook/blob/main/Praktikum_Notebook_ipynb_.ipynb\" target=\"_parent\"><img src=\"https://colab.research.google.com/assets/colab-badge.svg\" alt=\"Open In Colab\"/></a>"
      ]
    },
    {
      "cell_type": "markdown",
      "source": [
        "# 3-Modul Ma'lumotlarga ishlov berish\n",
        "3.1 Fayllar bilan ishalash\n",
        "\n",
        "Ma'lumotlar ombori"
      ],
      "metadata": {
        "id": "Y9trbEh_aklb"
      }
    },
    {
      "cell_type": "code",
      "execution_count": 9,
      "metadata": {
        "id": "3UEBbfJpajUK"
      },
      "outputs": [],
      "source": [
        "import pandas as pd\n",
        "import sqlite3 as sql\n",
        "from pprint import pprint as print"
      ]
    },
    {
      "cell_type": "code",
      "source": [
        "!wget url = \"https://www.sqlitetutorial.net/wp-content/uploads/2018/03/chinook.zip\""
      ],
      "metadata": {
        "colab": {
          "base_uri": "https://localhost:8080/"
        },
        "id": "HSbf3T95bIxN",
        "outputId": "d4f8a16b-6792-4b5b-bd4c-c4fb783ff5ce"
      },
      "execution_count": 5,
      "outputs": [
        {
          "output_type": "stream",
          "name": "stdout",
          "text": [
            "--2022-12-22 15:34:53--  http://url/\n",
            "Resolving url (url)... failed: Name or service not known.\n",
            "wget: unable to resolve host address ‘url’\n",
            "--2022-12-22 15:34:53--  http://=/\n",
            "Resolving = (=)... failed: Name or service not known.\n",
            "wget: unable to resolve host address ‘=’\n",
            "--2022-12-22 15:34:53--  https://www.sqlitetutorial.net/wp-content/uploads/2018/03/chinook.zip\n",
            "Resolving www.sqlitetutorial.net (www.sqlitetutorial.net)... 151.139.128.10\n",
            "Connecting to www.sqlitetutorial.net (www.sqlitetutorial.net)|151.139.128.10|:443... connected.\n",
            "HTTP request sent, awaiting response... 200 OK\n",
            "Length: 305596 (298K) [application/zip]\n",
            "Saving to: ‘chinook.zip’\n",
            "\n",
            "chinook.zip         100%[===================>] 298.43K  --.-KB/s    in 0.01s   \n",
            "\n",
            "2022-12-22 15:34:53 (20.1 MB/s) - ‘chinook.zip’ saved [305596/305596]\n",
            "\n",
            "FINISHED --2022-12-22 15:34:53--\n",
            "Total wall clock time: 0.3s\n",
            "Downloaded: 1 files, 298K in 0.01s (20.1 MB/s)\n"
          ]
        }
      ]
    },
    {
      "cell_type": "code",
      "source": [
        "!unzip chinook.zip"
      ],
      "metadata": {
        "colab": {
          "base_uri": "https://localhost:8080/"
        },
        "id": "rBzTUJbteRoM",
        "outputId": "9782036f-594f-482f-b585-edd7dc3c8461"
      },
      "execution_count": 7,
      "outputs": [
        {
          "output_type": "stream",
          "name": "stdout",
          "text": [
            "Archive:  chinook.zip\n",
            "replace chinook.db? [y]es, [n]o, [A]ll, [N]one, [r]ename: "
          ]
        }
      ]
    },
    {
      "cell_type": "code",
      "source": [
        "db = sql.connect(\"chinook.db\")\n",
        "cursor = db.cursor()"
      ],
      "metadata": {
        "id": "02y6WrHRemen"
      },
      "execution_count": 11,
      "outputs": []
    },
    {
      "cell_type": "code",
      "source": [
        "cursor.execute(\" SELECT name FROM sqlite_master WHERE type='table';\")\n",
        "cursor.fetchall() "
      ],
      "metadata": {
        "colab": {
          "base_uri": "https://localhost:8080/"
        },
        "id": "xC3v-AXJfBu5",
        "outputId": "74f72500-4e29-4cfa-972f-2a3f157937c6"
      },
      "execution_count": 12,
      "outputs": [
        {
          "output_type": "execute_result",
          "data": {
            "text/plain": [
              "[('albums',),\n",
              " ('sqlite_sequence',),\n",
              " ('artists',),\n",
              " ('customers',),\n",
              " ('employees',),\n",
              " ('genres',),\n",
              " ('invoices',),\n",
              " ('invoice_items',),\n",
              " ('media_types',),\n",
              " ('playlists',),\n",
              " ('playlist_track',),\n",
              " ('tracks',),\n",
              " ('sqlite_stat1',)]"
            ]
          },
          "metadata": {},
          "execution_count": 12
        }
      ]
    },
    {
      "cell_type": "code",
      "source": [
        "cursor.execute(\"SELECT COUNT (*) FROM employees\")\n",
        "cursor.fetchone()"
      ],
      "metadata": {
        "colab": {
          "base_uri": "https://localhost:8080/"
        },
        "id": "0TKx11hCf5Xa",
        "outputId": "a0982e8e-dce9-4aa1-b513-abd4f4bac26c"
      },
      "execution_count": 17,
      "outputs": [
        {
          "output_type": "execute_result",
          "data": {
            "text/plain": [
              "(8,)"
            ]
          },
          "metadata": {},
          "execution_count": 17
        }
      ]
    },
    {
      "cell_type": "code",
      "source": [
        "cursor.execute(\"PRAGMA table_info(customers);\")\n",
        "cursor.fetchall()"
      ],
      "metadata": {
        "colab": {
          "base_uri": "https://localhost:8080/"
        },
        "id": "I9nfSjHUgYHT",
        "outputId": "d3fa0633-23b0-424d-9271-3babe3d4c95e"
      },
      "execution_count": 18,
      "outputs": [
        {
          "output_type": "execute_result",
          "data": {
            "text/plain": [
              "[(0, 'CustomerId', 'INTEGER', 1, None, 1),\n",
              " (1, 'FirstName', 'NVARCHAR(40)', 1, None, 0),\n",
              " (2, 'LastName', 'NVARCHAR(20)', 1, None, 0),\n",
              " (3, 'Company', 'NVARCHAR(80)', 0, None, 0),\n",
              " (4, 'Address', 'NVARCHAR(70)', 0, None, 0),\n",
              " (5, 'City', 'NVARCHAR(40)', 0, None, 0),\n",
              " (6, 'State', 'NVARCHAR(40)', 0, None, 0),\n",
              " (7, 'Country', 'NVARCHAR(40)', 0, None, 0),\n",
              " (8, 'PostalCode', 'NVARCHAR(10)', 0, None, 0),\n",
              " (9, 'Phone', 'NVARCHAR(24)', 0, None, 0),\n",
              " (10, 'Fax', 'NVARCHAR(24)', 0, None, 0),\n",
              " (11, 'Email', 'NVARCHAR(60)', 1, None, 0),\n",
              " (12, 'SupportRepId', 'INTEGER', 0, None, 0)]"
            ]
          },
          "metadata": {},
          "execution_count": 18
        }
      ]
    },
    {
      "cell_type": "code",
      "source": [],
      "metadata": {
        "id": "TuyXIldnhCnR"
      },
      "execution_count": null,
      "outputs": []
    }
  ]
}